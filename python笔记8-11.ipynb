{
 "cells": [
  {
   "cell_type": "markdown",
   "id": "1cf0511c",
   "metadata": {},
   "source": [
    "## 函数"
   ]
  },
  {
   "cell_type": "code",
   "execution_count": 2,
   "id": "dd8bc710",
   "metadata": {},
   "outputs": [
    {
     "name": "stdout",
     "output_type": "stream",
     "text": [
      "Hello, Jesse!\n"
     ]
    }
   ],
   "source": [
    "def greet_user(username):   #def进行函数定义 括号向函数传递信息 username为形参\n",
    "    \"\"\"显示简单的问候语\"\"\" #文档字符串注释 三引号括起\n",
    "    print(\"Hello, \" + username.title() + \"!\")\n",
    "greet_user('jesse')   #jesse为实参 实参储存在形参之中"
   ]
  },
  {
   "cell_type": "code",
   "execution_count": 6,
   "id": "2a6081d8",
   "metadata": {},
   "outputs": [
    {
     "name": "stdout",
     "output_type": "stream",
     "text": [
      "I have a hamster.\n",
      "My hamster's name is Harry.\n",
      "I have a dog.\n",
      "My dog's name is Willie.\n"
     ]
    }
   ],
   "source": [
    "# 位置实参,注意顺序\n",
    "def describe_pet(animal_type,pet_name):\n",
    "    \"\"\"显示宠物的信息\"\"\"\n",
    "    print(\"I have a \"+animal_type +\".\")\n",
    "    print(\"My \"+animal_type +\"'s name is \"+ pet_name.title() + \".\")\n",
    "describe_pet('hamster','harry')\n",
    "describe_pet('dog','willie')  #多次调用函数"
   ]
  },
  {
   "cell_type": "code",
   "execution_count": 9,
   "id": "8ee42399",
   "metadata": {},
   "outputs": [
    {
     "name": "stdout",
     "output_type": "stream",
     "text": [
      "I have a hamster.\n",
      "My hamster's name is Harry.\n"
     ]
    }
   ],
   "source": [
    "# 关键字实参\n",
    "def describe_pet(animal_type,pet_name='dog'): #可以给形参指定默认值\n",
    "    \"\"\"显示宠物的信息\"\"\"\n",
    "    print(\"I have a \"+animal_type +\".\")\n",
    "    print(\"My \"+animal_type +\"'s name is \"+ pet_name.title() + \".\")\n",
    "describe_pet(pet_name='harry',animal_type='hamster')"
   ]
  },
  {
   "cell_type": "code",
   "execution_count": 10,
   "id": "28645393",
   "metadata": {},
   "outputs": [
    {
     "name": "stdout",
     "output_type": "stream",
     "text": [
      "Jimi Hendrix\n",
      "John Lee Hooker\n"
     ]
    }
   ],
   "source": [
    "def get_formatted_name(first_name,last_name,middle_name=''):\n",
    "    if middle_name: #非空字符串为True\n",
    "        full_name = first_name + ' ' + middle_name + ' ' + last_name\n",
    "    else:\n",
    "        full_name = first_name + ' ' + last_name\n",
    "    return full_name.title()\n",
    "musician = get_formatted_name('jimi','hendrix')\n",
    "print(musician)\n",
    "musician = get_formatted_name('john','hooker','lee')\n",
    "print(musician)"
   ]
  },
  {
   "cell_type": "code",
   "execution_count": 11,
   "id": "adb00eba",
   "metadata": {},
   "outputs": [
    {
     "name": "stdout",
     "output_type": "stream",
     "text": [
      "{'first': 'jimi', 'last': 'hendrix'}\n"
     ]
    }
   ],
   "source": [
    "# 返回字典\n",
    "def build_person(first_name,last_name):\n",
    "    person = {'first':first_name,'last':last_name}\n",
    "    return person\n",
    "musician = build_person('jimi','hendrix')\n",
    "print(musician)"
   ]
  },
  {
   "cell_type": "markdown",
   "id": "84fe327c",
   "metadata": {},
   "source": [
    "### 传递列表"
   ]
  },
  {
   "cell_type": "code",
   "execution_count": 14,
   "id": "564e13d7",
   "metadata": {},
   "outputs": [
    {
     "name": "stdout",
     "output_type": "stream",
     "text": [
      "Hello, Hannah!\n",
      "Hello, Ty!\n",
      "Hello, Margot!\n"
     ]
    }
   ],
   "source": [
    "def greet_users(names):\n",
    "    for name in names:\n",
    "        msg = \"Hello, \"+name.title()+\"!\"\n",
    "        print(msg)\n",
    "usernames = ['hannah','ty','margot']\n",
    "greet_users(usernames)\n",
    "\n",
    "# 禁止函数修改列表 使用切片创建副本  function_name(list_name[:])"
   ]
  },
  {
   "cell_type": "code",
   "execution_count": 15,
   "id": "9ec02418",
   "metadata": {},
   "outputs": [
    {
     "name": "stdout",
     "output_type": "stream",
     "text": [
      "('pepperoni',)\n",
      "('mushrooms', 'green peppers', 'extra cheese')\n"
     ]
    }
   ],
   "source": [
    "#传递任意数量的实参\n",
    "def make_pizza(*toppings):  # *创建空元组,并且把所有收到的值装到此元组中\n",
    "    print(toppings)\n",
    "make_pizza('pepperoni')\n",
    "make_pizza('mushrooms','green peppers','extra cheese')"
   ]
  },
  {
   "cell_type": "markdown",
   "id": "d6fdc6e1",
   "metadata": {},
   "source": [
    "### 将函数存储在模块中\n",
    "- 创建模块 module_name.py 定义函数 def function_name\n",
    "- 导入模块 import module_name\n",
    "- 调用模块 module_name.function_name()\n",
    "- 导入模块中的特定函数 from module_name import function_name as fn(as:给模块或者函数指定别名)\n",
    "- 导入模块中的所有函数 from module_name import * \n"
   ]
  },
  {
   "cell_type": "markdown",
   "id": "f81589a4",
   "metadata": {},
   "source": [
    "## 类"
   ]
  },
  {
   "cell_type": "code",
   "execution_count": 24,
   "id": "9325e810",
   "metadata": {},
   "outputs": [
    {
     "name": "stdout",
     "output_type": "stream",
     "text": [
      "My dog's name is Willie.\n",
      "My dog is 6 years old.\n",
      "Willie is now sitting.\n",
      "Willie rolled over!\n"
     ]
    }
   ],
   "source": [
    "class  Dog():\n",
    "    def __init__(self,name,age):  #类中的函数称为方法 __init__()两个下划线约定类创建新实例时自动运行此方法 \n",
    "                                  #形参self必不可少并且必须在第一位 是指向实例本身的引用\n",
    "        self.name = name\n",
    "        self.age = age\n",
    "    \n",
    "    def sit(self):\n",
    "        print(self.name.title()+\" is now sitting.\")\n",
    "    \n",
    "    def roll_over(self):\n",
    "        print(self.name.title()+\" rolled over!\")\n",
    "        \n",
    "my_dog = Dog('willie', 6)     #大写规定为类,小写为实类\n",
    "print(\"My dog's name is \"+my_dog.name.title()+\".\")\n",
    "print(\"My dog is \"+str(my_dog.age)+\" years old.\")\n",
    "my_dog.sit()    #调用方法,指定实例的名称\n",
    "my_dog.roll_over()"
   ]
  },
  {
   "cell_type": "code",
   "execution_count": 28,
   "id": "9f23af70",
   "metadata": {},
   "outputs": [
    {
     "name": "stdout",
     "output_type": "stream",
     "text": [
      "2016 Audi A4\n",
      "This car has 0 miles on it.\n",
      "This car has 23 miles on it.\n"
     ]
    }
   ],
   "source": [
    "# 给属性指定默认值 在方法内指定初始值,无需包含为它提供初始值的实参\n",
    "class Car():\n",
    "    def __init__(self,make,model,year):\n",
    "        self.make = make\n",
    "        self.model = model\n",
    "        self.year = year\n",
    "        self.odometer_reading = 0    #初始值为0\n",
    "    \n",
    "    def get_descriptive_name(self):\n",
    "        long_name = str(self.year) + ' ' + self.make + ' ' + self.model\n",
    "        return long_name.title()\n",
    "    \n",
    "    def read_odometer(self):\n",
    "        print(\"This car has \"+str(self.odometer_reading)+\" miles on it.\")\n",
    "\n",
    "my_new_car = Car('audi','a4',2016)\n",
    "print(my_new_car.get_descriptive_name())\n",
    "my_new_car.read_odometer()\n",
    "\n",
    "#修改初始值\n",
    "#1 直接修改属性的值\n",
    "my_new_car.odometer_reading = 23\n",
    "my_new_car.read_odometer()\n",
    "#2 通过方法修改属性的值\n",
    "#  def update_odomter(self,mileage):     在类中添加方法\n",
    "#      self.odometer_reading = mileage\n",
    "#3 通过方法对属性的值进行递增\n",
    "#  def increment_odomter(self,miles):     在类中添加方法\n",
    "#      self.odometer_reading += miles"
   ]
  },
  {
   "cell_type": "markdown",
   "id": "a52ab098",
   "metadata": {},
   "source": [
    "### 继承"
   ]
  },
  {
   "cell_type": "code",
   "execution_count": 32,
   "id": "d7e72acf",
   "metadata": {},
   "outputs": [
    {
     "name": "stdout",
     "output_type": "stream",
     "text": [
      "2016 Tesla Model S\n",
      "This car has a 70-KWh battery.\n"
     ]
    }
   ],
   "source": [
    "class Car():  # 创建子类,父类必须包含在文件中且在子类前面\n",
    "    def __init__(self,make,model,year):\n",
    "        self.make = make\n",
    "        self.model = model\n",
    "        self.year = year\n",
    "    \n",
    "    def get_descriptive_name(self):\n",
    "        long_name = str(self.year) + ' ' + self.make + ' ' + self.model\n",
    "        return long_name.title()\n",
    "    \n",
    "class ElectricCar(Car):   #定义子类,必须在括号内指定父类的名称\n",
    "    def __init__(self,make,model,year):\n",
    "        super().__init__(make,model,year)  #父类也叫超类 ,super()函数调用父类方法\n",
    "        self.battery_size = 70  #添加新属性并且设置初始值\n",
    "    def describe_battery(self):\n",
    "        print(\"This car has a \"+ str(self.battery_size)+\"-KWh battery.\")\n",
    "my_tesla = ElectricCar('tesla','model s',2016)\n",
    "print(my_tesla.get_descriptive_name())\n",
    "my_tesla.describe_battery()"
   ]
  },
  {
   "cell_type": "code",
   "execution_count": 34,
   "id": "fd2c3b91",
   "metadata": {},
   "outputs": [
    {
     "name": "stdout",
     "output_type": "stream",
     "text": [
      "2016 Tesla Model S\n",
      "This car has a 70-KWh battery.\n"
     ]
    }
   ],
   "source": [
    "#将实例用作属性\n",
    "class Car(): \n",
    "    def __init__(self,make,model,year):\n",
    "        self.make = make\n",
    "        self.model = model\n",
    "        self.year = year\n",
    "    \n",
    "    def get_descriptive_name(self):\n",
    "        long_name = str(self.year) + ' ' + self.make + ' ' + self.model\n",
    "        return long_name.title()\n",
    "    \n",
    "class Battery():   #定义新类\n",
    "    def __init__(self,battery_size=70):\n",
    "        self.battery_size = battery_size\n",
    "    def describe_battery(self):\n",
    "        print(\"This car has a \"+ str(self.battery_size)+\"-KWh battery.\")\n",
    "        \n",
    "class ElectricCar(Car):   \n",
    "    def __init__(self,make,model,year):\n",
    "        super().__init__(make,model,year) \n",
    "        self.battery = Battery()   #定义属性,创建实例\n",
    "        \n",
    "my_tesla = ElectricCar('tesla','model s',2016)\n",
    "print(my_tesla.get_descriptive_name())\n",
    "my_tesla.battery.describe_battery()    "
   ]
  },
  {
   "cell_type": "markdown",
   "id": "1a99e78d",
   "metadata": {},
   "source": [
    "## 导入类\n",
    "- 使用模块的程序使用更具体的文件名\n",
    "- 在一个模块中存储多个类\n",
    "- 从一个模块中导入多个类 from car import Car,ElectricCar\n",
    "- 导入整个模块 import car\n",
    "- 导入模块中的所有类 from module_name import * (不推荐,建议上一种)\n",
    "- 在一个模块中导入另一个模块"
   ]
  },
  {
   "cell_type": "markdown",
   "id": "e0b3df43",
   "metadata": {},
   "source": [
    "## 文件和异常"
   ]
  },
  {
   "cell_type": "code",
   "execution_count": null,
   "id": "45463657",
   "metadata": {},
   "outputs": [],
   "source": [
    "with open('name.txt') as file_object:   #open(文件名) 打开文件 关键字with在不需要文件后关闭\n",
    "    contents = file_object.read()   #read()读取文件全部内容 达到文件末尾返回空字符串,显示为空行\n",
    "    print(contents)\n",
    "    #去掉空行可以使用 rstrip()方法\n",
    "    \n",
    "#文件路径\n",
    "with open('path/to/name.txt') as file_object:  #相对文件路径或绝对文件路径:linux和os X用/   windows用\\\n",
    "\n",
    "#逐行读取\n",
    "filename = 'name.txt'  #存储文件名称于变量\n",
    "with open(filename) as file_object:\n",
    "    for line in file_object:\n",
    "        print(line)  #文件末尾换行符+print语句换行符会多出一行空白 可以用rstrip()\n",
    "\n",
    "# 写入文件\n",
    "filename = 'name.txt'\n",
    "with open(filename,'w') as file_object: \n",
    "    #实参'w'代表写入模式打开文件 'r'读取 'a'附加(添加内容在文件末尾) 默认只读 读取加写入'r+'\n",
    "    file_object.write(\"I love it.\")  #输入多行文字需要添加换行符\\n"
   ]
  },
  {
   "cell_type": "code",
   "execution_count": 35,
   "id": "3c1157b9",
   "metadata": {},
   "outputs": [
    {
     "name": "stdout",
     "output_type": "stream",
     "text": [
      "You can't divide by zero!\n"
     ]
    }
   ],
   "source": [
    "# 异常\n",
    "try:   #try中运行无误,跳过except,否则运行except\n",
    "    print(5/0)\n",
    "except ZeroDivisionError:\n",
    "    print(\"You can't divide by zero!\")\n",
    "# 可能错误的代码放在try中,成功执行运行的代码放在else当中 except中可以写pass不显示错误报告"
   ]
  },
  {
   "cell_type": "code",
   "execution_count": 36,
   "id": "3f6de0d1",
   "metadata": {},
   "outputs": [],
   "source": [
    "#存储数据 模块json将简单的python数据结构转储到文件中,并且在程序再次运行时加载其中数据\n",
    "import json\n",
    "numbers = [2,3,5,7,11,13]\n",
    "filename = 'numbers.json'\n",
    "with open(filename,'w') as f_obj:\n",
    "    json.dump(numbers,f_obj)   #json.dump()接受两个实参,要存储的数据以及用于存储数据的文件对象"
   ]
  },
  {
   "cell_type": "code",
   "execution_count": 37,
   "id": "1277787a",
   "metadata": {},
   "outputs": [
    {
     "name": "stdout",
     "output_type": "stream",
     "text": [
      "[2, 3, 5, 7, 11, 13]\n"
     ]
    }
   ],
   "source": [
    "filename = 'numbers.json'\n",
    "with open(filename) as f_obj:\n",
    "    numbers = json.load(f_obj)  #json.load() 读取文件\n",
    "print(numbers)"
   ]
  },
  {
   "cell_type": "markdown",
   "id": "6ffd84cf",
   "metadata": {},
   "source": [
    "## 测试"
   ]
  },
  {
   "cell_type": "code",
   "execution_count": null,
   "id": "248f2639",
   "metadata": {},
   "outputs": [],
   "source": [
    "# 单元测试:核实函数的某个方面没有问题\n",
    "# 测试用例:一组单元测试\n",
    "# 全覆盖式测试:包含一整套单元测试\n",
    "import unittest\n",
    "from name_function import get_formatted_name  #导入要测试的函数\n",
    "\n",
    "class NamesTestCase(unittest.TestCase):    #测试的类必须继承unittest.Test类 所有test_打头的方法自动运行\n",
    "    def test_first_last_name(self):\n",
    "        formatted_name = get_formatted_name('jains','joplin')   \n",
    "        self.assertEqual(formatted_name,'Janis Joplin')  #断言方法,核实结果是否一致\n",
    "unittest.main()\n",
    "#通过OK  未通过FAILED并报错"
   ]
  },
  {
   "cell_type": "markdown",
   "id": "df2a5896",
   "metadata": {},
   "source": [
    "### 各种断言方法\n",
    "- assertEqual(a,b)  &emsp;   a == b\n",
    "- assertNotEqual(a,b)  &emsp;     a != b\n",
    "- assertTrue(x)     &emsp;  核实x为True\n",
    "- asseertFalse(x)    &emsp;   核实x为False\n",
    "- assertIn(item,list)  &emsp;  核实item在list中\n",
    "- assertNotIn(item,list)   &emsp;    核实item不在list中"
   ]
  },
  {
   "cell_type": "code",
   "execution_count": null,
   "id": "602e6e73",
   "metadata": {},
   "outputs": [],
   "source": [
    "import unittest\n",
    "from name_function import get_formatted_name\n",
    "class NamesTestCase(unittest.TestCase): \n",
    "    def setUp(self):     #先运行setup,再运行test setup创建调查对象和答案列表\n",
    "        question = \"\"\n",
    "        self.my_survey = NamesTestCase(question)\n",
    "        self.response = ['1','2']\n",
    "        ........\n",
    "unittest.main()"
   ]
  }
 ],
 "metadata": {
  "kernelspec": {
   "display_name": "Python 3 (ipykernel)",
   "language": "python",
   "name": "python3"
  },
  "language_info": {
   "codemirror_mode": {
    "name": "ipython",
    "version": 3
   },
   "file_extension": ".py",
   "mimetype": "text/x-python",
   "name": "python",
   "nbconvert_exporter": "python",
   "pygments_lexer": "ipython3",
   "version": "3.9.12"
  }
 },
 "nbformat": 4,
 "nbformat_minor": 5
}
