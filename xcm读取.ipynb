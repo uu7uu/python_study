{
 "cells": [
  {
   "cell_type": "code",
   "execution_count": 48,
   "metadata": {},
   "outputs": [],
   "source": [
    "import numpy as np\n",
    "from astropy.io import fits\n",
    "import pandas as pd\n",
    "import matplotlib.pyplot as plt"
   ]
  },
  {
   "cell_type": "code",
   "execution_count": 62,
   "metadata": {},
   "outputs": [
    {
     "name": "stdout",
     "output_type": "stream",
     "text": [
      "               0                            1         2                 3  \\\n",
      "0              1                        -0.01     0.000                 0   \n",
      "1            0.6                           -1     0.000      0     100000   \n",
      "2       0.473129                         0.01     0.000                 0   \n",
      "3        20518.4                         0.01     0.000                 0   \n",
      "4              3                         -0.1   -10.000               -10   \n",
      "5              3                         -0.1   -10.000               -10   \n",
      "6             15                         -0.1     1.000                 1   \n",
      "7         -0.998    0.1     -0.998     -0.998     0.998             0.998   \n",
      "8        30.5388                            1     3.000                 5   \n",
      "9             -1                         -0.1  -100.000              -100   \n",
      "10           400                         -0.1     1.000                 1   \n",
      "11  0     -0.001                            0     0.000                10   \n",
      "12       1.85571                         0.01     1.000                 1   \n",
      "13        3.4193                         0.01     0.000                 0   \n",
      "14       2.57115                         0.01     0.500               0.5   \n",
      "15           300                         -0.1     5.000                 5   \n",
      "16      0.285519                         0.01 -1000.000                 0   \n",
      "17      0.227642                         0.01     0.000                 0   \n",
      "18       1.01108                         0.01     0.000                 0   \n",
      "\n",
      "               4             5  \n",
      "0   1.000000e+10  1.000000e+10  \n",
      "1   1.000000e+06           NaN  \n",
      "2   1.000000e+03  1.000000e+03  \n",
      "3   1.000000e+20  1.000000e+24  \n",
      "4   1.000000e+01  1.000000e+01  \n",
      "5   1.000000e+01  1.000000e+01  \n",
      "6   4.000000e+02  1.000000e+03  \n",
      "7            NaN           NaN  \n",
      "8   8.000000e+01  8.700000e+01  \n",
      "9  -1.000000e+00 -1.000000e+00  \n",
      "10  4.000000e+02  1.000000e+03  \n",
      "11  1.000000e+01           NaN  \n",
      "12  3.400000e+00  3.400000e+00  \n",
      "13  4.700000e+00  4.700000e+00  \n",
      "14  1.000000e+01  1.000000e+01  \n",
      "15  1.000000e+03  1.000000e+03  \n",
      "16  1.000000e+01  1.000000e+03  \n",
      "17  1.000000e+20  1.000000e+24  \n",
      "18  1.000000e+10  1.000000e+10  \n"
     ]
    }
   ],
   "source": [
    "# Load data from a XCM file rf模型读取\n",
    "file = pd.read_table('6rf.xcm',sep='\\      ',header=None,skiprows=13,skipfooter=18,\n",
    "                     engine='python')\n",
    "print(file)\n",
    "#print(file[0])"
   ]
  },
  {
   "cell_type": "code",
   "execution_count": null,
   "metadata": {},
   "outputs": [],
   "source": []
  }
 ],
 "metadata": {
  "kernelspec": {
   "display_name": "Python 3.9.12 ('base')",
   "language": "python",
   "name": "python3"
  },
  "language_info": {
   "codemirror_mode": {
    "name": "ipython",
    "version": 3
   },
   "file_extension": ".py",
   "mimetype": "text/x-python",
   "name": "python",
   "nbconvert_exporter": "python",
   "pygments_lexer": "ipython3",
   "version": "3.9.12"
  },
  "orig_nbformat": 4,
  "vscode": {
   "interpreter": {
    "hash": "2e66cb8045b3dba5c242caa505725e62e2c4b9c4b39f0cfcc1fa202066eb6129"
   }
  }
 },
 "nbformat": 4,
 "nbformat_minor": 2
}
