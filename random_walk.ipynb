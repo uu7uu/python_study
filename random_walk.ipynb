{
 "cells": [
  {
   "cell_type": "code",
   "execution_count": null,
   "id": "cacaed2d",
   "metadata": {},
   "outputs": [],
   "source": [
    "from random import choice\n",
    "class RandomWalk():\n",
    "    def __init__(self,num_points=5000):\n",
    "        \"\"\"初始化随机漫步的属性\"\"\"\n",
    "        self.num_points = num_points\n",
    "        self.x_values = [0]\n",
    "        self.y_values = [0]\n",
    "    def fill_walk(self):\n",
    "        while len(self.x_values)<self.num_points:\n",
    "            x_direction = choice([1,-1])\n",
    "            x_distance = choice([0,1,2,3,4])\n",
    "            x_step = x_direction*x_distance\n",
    "            y_direction = choice([1,-1])\n",
    "            y_distance = choice([0,1,2,3,4])\n",
    "            y_step = y_direction*y_distance\n",
    "        \n",
    "            if x_step == 0 and y_step == 0:\n",
    "                continue\n",
    "            next_x = self.x_values[-1] + x_step\n",
    "            next_y = self.y_values[-1] + y_step\n",
    "            self.x_values.append(next_x)\n",
    "            self.y_values.append(next_y)"
   ]
  }
 ],
 "metadata": {
  "kernelspec": {
   "display_name": "Python 3 (ipykernel)",
   "language": "python",
   "name": "python3"
  },
  "language_info": {
   "codemirror_mode": {
    "name": "ipython",
    "version": 3
   },
   "file_extension": ".py",
   "mimetype": "text/x-python",
   "name": "python",
   "nbconvert_exporter": "python",
   "pygments_lexer": "ipython3",
   "version": "3.9.12"
  }
 },
 "nbformat": 4,
 "nbformat_minor": 5
}
