{
 "cells": [
  {
   "cell_type": "markdown",
   "id": "ad1542ce",
   "metadata": {},
   "source": [
    "### 字符串\"\" 字母数字下划线 (数字不能开头)  存储到变量"
   ]
  },
  {
   "cell_type": "code",
   "execution_count": 6,
   "id": "f755737e",
   "metadata": {
    "scrolled": true
   },
   "outputs": [
    {
     "name": "stdout",
     "output_type": "stream",
     "text": [
      "Hello,world!\n",
      "good\n"
     ]
    }
   ],
   "source": [
    "message = \"Hello,world!\"\n",
    "print(message)\n",
    "message = \"good\"\n",
    "print(message)"
   ]
  },
  {
   "cell_type": "markdown",
   "id": "463b6926",
   "metadata": {},
   "source": [
    "### 修改字符串大小写  函数(信息)  [变量.函数]对变量执行函数操作"
   ]
  },
  {
   "cell_type": "code",
   "execution_count": 8,
   "id": "c3924ea1",
   "metadata": {},
   "outputs": [
    {
     "name": "stdout",
     "output_type": "stream",
     "text": [
      "Ada Lovelace\n",
      "ADA LOVELACE\n",
      "ada lovelace\n"
     ]
    }
   ],
   "source": [
    "name = \"ada lovelace\"\n",
    "print(name.title())\n",
    "print(name.upper())\n",
    "print(name.lower())"
   ]
  },
  {
   "cell_type": "markdown",
   "id": "b2e4803c",
   "metadata": {},
   "source": [
    "### 拼接字符串"
   ]
  },
  {
   "cell_type": "code",
   "execution_count": 10,
   "id": "cda67e28",
   "metadata": {},
   "outputs": [
    {
     "name": "stdout",
     "output_type": "stream",
     "text": [
      "Hello, Ada Lovelace!\n"
     ]
    }
   ],
   "source": [
    "first_name = \"ada\"\n",
    "last_name = \"lovelace\"\n",
    "full_name = first_name + \" \" + last_name\n",
    "print(\"Hello, \" + full_name.title() + \"!\")"
   ]
  },
  {
   "cell_type": "markdown",
   "id": "10c7666c",
   "metadata": {},
   "source": [
    "### 使用制表符和换行符添加空白"
   ]
  },
  {
   "cell_type": "code",
   "execution_count": 12,
   "id": "b1918f2b",
   "metadata": {},
   "outputs": [
    {
     "name": "stdout",
     "output_type": "stream",
     "text": [
      "Python\n",
      "\tPython\n",
      "Languages:\n",
      "\tpython\n",
      "\tC\n",
      "\tJavascript\n"
     ]
    }
   ],
   "source": [
    "print(\"Python\")\n",
    "print(\"\\tPython\") # \\t 制表符\n",
    "print(\"Languages:\\n\\tpython\\n\\tC\\n\\tJavascript\") # \\n 换行符"
   ]
  },
  {
   "cell_type": "markdown",
   "id": "002766d6",
   "metadata": {},
   "source": [
    "### 删除空白"
   ]
  },
  {
   "cell_type": "code",
   "execution_count": 23,
   "id": "85c1cbcb",
   "metadata": {},
   "outputs": [
    {
     "data": {
      "text/plain": [
       "' Python '"
      ]
     },
     "execution_count": 23,
     "metadata": {},
     "output_type": "execute_result"
    }
   ],
   "source": [
    "favorite_language = \" Python \"\n",
    "favorite_language"
   ]
  },
  {
   "cell_type": "code",
   "execution_count": 24,
   "id": "ee6fe05e",
   "metadata": {},
   "outputs": [
    {
     "data": {
      "text/plain": [
       "'Python'"
      ]
     },
     "execution_count": 24,
     "metadata": {},
     "output_type": "execute_result"
    }
   ],
   "source": [
    "favorite_language.rstrip() #调用方法rstrip 删除末尾空格\n",
    "favorite_language.lstrip() #删除开头空格\n",
    "favorite_language.strip()  #删除两端空格"
   ]
  },
  {
   "cell_type": "markdown",
   "id": "77419736",
   "metadata": {},
   "source": [
    "### 数字运算 "
   ]
  },
  {
   "cell_type": "code",
   "execution_count": 26,
   "id": "faf79371",
   "metadata": {},
   "outputs": [
    {
     "data": {
      "text/plain": [
       "14"
      ]
     },
     "execution_count": 26,
     "metadata": {},
     "output_type": "execute_result"
    }
   ],
   "source": [
    "2 + 3\n",
    "3 - 2\n",
    "2 * 3\n",
    "3 / 2\n",
    "3 ** 2\n",
    "2 + 3*4"
   ]
  },
  {
   "cell_type": "markdown",
   "id": "c0c2faae",
   "metadata": {},
   "source": [
    "### 函数str()避免类型错误"
   ]
  },
  {
   "cell_type": "code",
   "execution_count": 29,
   "id": "340e22ff",
   "metadata": {},
   "outputs": [
    {
     "name": "stdout",
     "output_type": "stream",
     "text": [
      "Happy 23rd Birthday!\n"
     ]
    }
   ],
   "source": [
    "age = 23\n",
    "message = \"Happy \" + str(age) + \"rd Birthday!\" #使用str()将非字符串值表示为字符串\n",
    "print(message)"
   ]
  },
  {
   "cell_type": "code",
   "execution_count": 30,
   "id": "89efdd80",
   "metadata": {},
   "outputs": [
    {
     "name": "stdout",
     "output_type": "stream",
     "text": [
      "The Zen of Python, by Tim Peters\n",
      "\n",
      "Beautiful is better than ugly.\n",
      "Explicit is better than implicit.\n",
      "Simple is better than complex.\n",
      "Complex is better than complicated.\n",
      "Flat is better than nested.\n",
      "Sparse is better than dense.\n",
      "Readability counts.\n",
      "Special cases aren't special enough to break the rules.\n",
      "Although practicality beats purity.\n",
      "Errors should never pass silently.\n",
      "Unless explicitly silenced.\n",
      "In the face of ambiguity, refuse the temptation to guess.\n",
      "There should be one-- and preferably only one --obvious way to do it.\n",
      "Although that way may not be obvious at first unless you're Dutch.\n",
      "Now is better than never.\n",
      "Although never is often better than *right* now.\n",
      "If the implementation is hard to explain, it's a bad idea.\n",
      "If the implementation is easy to explain, it may be a good idea.\n",
      "Namespaces are one honking great idea -- let's do more of those!\n"
     ]
    }
   ],
   "source": [
    "import this"
   ]
  },
  {
   "cell_type": "markdown",
   "id": "fe9b587b",
   "metadata": {},
   "source": [
    "## 列表"
   ]
  },
  {
   "cell_type": "code",
   "execution_count": 37,
   "id": "fdf487fb",
   "metadata": {},
   "outputs": [
    {
     "name": "stdout",
     "output_type": "stream",
     "text": [
      "['trek', 'cannondale', 'resline', 'specialized']\n",
      "trek\n",
      "Trek\n",
      "specialized\n",
      "resline\n",
      "My first bicycle was a Trek.\n"
     ]
    }
   ],
   "source": [
    "bicycles = ['trek','cannondale','resline','specialized']\n",
    "print(bicycles)\n",
    "print(bicycles[0]) # 访问列表元素\n",
    "print(bicycles[0].title())\n",
    "print(bicycles[-1]) # -1返回最后一个元素\n",
    "print(bicycles[-2])\n",
    "message = \"My first bicycle was a \" + bicycles[0].title() + \".\"\n",
    "print(message)"
   ]
  },
  {
   "cell_type": "code",
   "execution_count": 47,
   "id": "27d8eddf",
   "metadata": {},
   "outputs": [
    {
     "name": "stdout",
     "output_type": "stream",
     "text": [
      "['honda', 'yamaha', 'suzuki']\n",
      "['ducati', 'yamaha', 'suzuki']\n",
      "['ducati', 'yamaha', 'suzuki', 'honda']\n",
      "['dudu', 'ducati', 'yamaha', 'suzuki', 'honda']\n",
      "['ducati', 'yamaha', 'suzuki', 'honda']\n",
      "['ducati', 'yamaha', 'suzuki']\n",
      "honda\n",
      "['yamaha', 'suzuki']\n"
     ]
    }
   ],
   "source": [
    "motorcycles = ['honda','yamaha','suzuki']\n",
    "print(motorcycles)\n",
    "motorcycles[0]='ducati' #修改列表元素\n",
    "print(motorcycles)\n",
    "\n",
    "motorcycles.append('honda') #在末尾添加元素\n",
    "print(motorcycles)\n",
    "motorcycles.insert(0,'dudu') #在指定位置添加元素\n",
    "print(motorcycles)\n",
    "\n",
    "del motorcycles[0] #删除指定位置元素\n",
    "print(motorcycles)\n",
    "\n",
    "popped_motorcycle = motorcycles.pop() #删除列表末尾元素,也可以在括号指定位置\n",
    "print(motorcycles) # 删除后的列表\n",
    "print(popped_motorcycle) #被删除的元素\n",
    "\n",
    "motorcycles.remove('ducati') #根据值删除元素\n",
    "print(motorcycles)"
   ]
  },
  {
   "cell_type": "markdown",
   "id": "d3acee70",
   "metadata": {},
   "source": [
    "### 组织列表"
   ]
  },
  {
   "cell_type": "code",
   "execution_count": 61,
   "id": "9048ec44",
   "metadata": {},
   "outputs": [
    {
     "name": "stdout",
     "output_type": "stream",
     "text": [
      "['audi', 'bmw', 'subaru', 'toyota']\n",
      "['toyota', 'subaru', 'bmw', 'audi']\n",
      "\n",
      "Here is the sorted list:\n",
      "['audi', 'bmw', 'subaru', 'toyota']\n",
      "\n",
      "Here is the original list:\n",
      "['toyota', 'subaru', 'bmw', 'audi']\n",
      "['audi', 'bmw', 'subaru', 'toyota']\n"
     ]
    },
    {
     "data": {
      "text/plain": [
       "4"
      ]
     },
     "execution_count": 61,
     "metadata": {},
     "output_type": "execute_result"
    }
   ],
   "source": [
    "cars = ['bmw','audi','toyota','subaru']\n",
    "cars.sort() # 永久修改列表元素顺序 按字母顺序排列\n",
    "print(cars)\n",
    "cars.sort(reverse=True) # 反向排列\n",
    "print(cars)\n",
    "\n",
    "print(\"\\nHere is the sorted list:\") \n",
    "print(sorted(cars)) # 临时修改顺序\n",
    "print(\"\\nHere is the original list:\") \n",
    "print(cars)\n",
    "\n",
    "cars.reverse() # 倒着打印\n",
    "print(cars)\n",
    "\n",
    "len(cars) #确定列表长度"
   ]
  },
  {
   "cell_type": "markdown",
   "id": "1beabfe8",
   "metadata": {},
   "source": [
    "### 操作列表"
   ]
  },
  {
   "cell_type": "code",
   "execution_count": 65,
   "id": "d38eb567",
   "metadata": {},
   "outputs": [
    {
     "name": "stdout",
     "output_type": "stream",
     "text": [
      "alice\n",
      "david\n",
      "carolina\n",
      "Alice, that was a great trick!\n",
      "I can't wait to see your next trick, magician.title().\n",
      "\n",
      "David, that was a great trick!\n",
      "I can't wait to see your next trick, magician.title().\n",
      "\n",
      "Carolina, that was a great trick!\n",
      "I can't wait to see your next trick, magician.title().\n",
      "\n",
      "Thank you, everyone. That was a great magic show!\n"
     ]
    }
   ],
   "source": [
    "magicians = ['alice','david','carolina']\n",
    "for magician in magicians:    # 遍历列表\n",
    "    print(magician)\n",
    "    \n",
    "for magician in magicians:\n",
    "    print(magician.title()+\", that was a great trick!\")\n",
    "    print(\"I can't wait to see your next trick,\"+\" magician.title()\"+\".\\n\")\n",
    "print(\"Thank you, everyone. That was a great magic show!\")"
   ]
  },
  {
   "cell_type": "markdown",
   "id": "d336894d",
   "metadata": {},
   "source": [
    "### 创建数值列表"
   ]
  },
  {
   "cell_type": "code",
   "execution_count": 75,
   "id": "199a9139",
   "metadata": {},
   "outputs": [
    {
     "name": "stdout",
     "output_type": "stream",
     "text": [
      "1\n",
      "2\n",
      "3\n",
      "4\n",
      "[1, 2, 3, 4, 5]\n",
      "[2, 4, 6, 8, 10]\n",
      "[1, 4, 9, 16, 25, 36, 49, 64, 81, 100]\n",
      "0\n",
      "9\n",
      "45\n",
      "[1, 4, 9, 16, 25, 36, 49, 64, 81, 100]\n"
     ]
    }
   ],
   "source": [
    "for value in range(1,5):\n",
    "    print(value)\n",
    "    \n",
    "numbers = list(range(1,6)) #输出数字列表\n",
    "print(numbers)\n",
    "\n",
    "even_numbers = list(range(2,11,2)) #指定步长\n",
    "print(even_numbers)\n",
    "\n",
    "squares = []\n",
    "for value in range(1,11):\n",
    "    square = value**2\n",
    "    squares.append(square)\n",
    "print(squares)\n",
    "\n",
    "digits = [1,2,3,4,5,6,7,8,9,0]\n",
    "print(min(digits))\n",
    "print(max(digits))\n",
    "print(sum(digits))\n",
    "\n",
    "squares = [value**2 for value in range(1,11)]\n",
    "print(squares)  #列表解析"
   ]
  },
  {
   "cell_type": "markdown",
   "id": "07eb8bcf",
   "metadata": {},
   "source": [
    "### 使用列表的一部分"
   ]
  },
  {
   "cell_type": "code",
   "execution_count": 82,
   "id": "202b740c",
   "metadata": {},
   "outputs": [
    {
     "name": "stdout",
     "output_type": "stream",
     "text": [
      "['charles', 'martina', 'florence']\n",
      "['charles', 'martina', 'florence', 'eli']\n",
      "['florence', 'eli']\n",
      "['martina', 'florence', 'eli']\n",
      "Charles\n",
      "Martina\n",
      "Florence\n",
      "['charles', 'martina', 'florence', 'eli']\n",
      "['charles', 'martina', 'florence', 'eli', 'lucy']\n"
     ]
    }
   ],
   "source": [
    "players = ['charles','martina','florence','eli']\n",
    "print(players[0:3]) #打印切片\n",
    "print(players[:4])\n",
    "print(players[2:])\n",
    "print(players[-3:])\n",
    "\n",
    "for player in players[:3]:\n",
    "    print(player.title())\n",
    "    \n",
    "my_players = players[:]   #复制列表   不可以直接my_players = players 这样两个变量指向同一个个列表\n",
    "print(my_players)\n",
    "my_players.append(\"lucy\")\n",
    "print(my_players)"
   ]
  },
  {
   "cell_type": "markdown",
   "id": "c609eaa2",
   "metadata": {},
   "source": [
    "## 元组"
   ]
  },
  {
   "cell_type": "code",
   "execution_count": 87,
   "id": "7c40c369",
   "metadata": {},
   "outputs": [
    {
     "name": "stdout",
     "output_type": "stream",
     "text": [
      "200\n",
      "50\n",
      "200\n",
      "50\n",
      "\n",
      "Mdifined dimensions:\n",
      "400\n",
      "100\n"
     ]
    }
   ],
   "source": [
    "dimensions = (200,50)\n",
    "print(dimensions[0])\n",
    "print(dimensions[1])\n",
    "\n",
    "#dimensions[0]=250   不能修改元组元素 会报错\n",
    "\n",
    "for dimension in dimensions: #遍历元组元素\n",
    "    print(dimension)\n",
    "    \n",
    "dimensions=(400,100) #重新定义整个元组\n",
    "print(\"\\nMdifined dimensions:\")\n",
    "for dimension in dimensions: \n",
    "    print(dimension)"
   ]
  },
  {
   "cell_type": "markdown",
   "id": "f599736d",
   "metadata": {},
   "source": [
    "## if语句"
   ]
  },
  {
   "cell_type": "code",
   "execution_count": 113,
   "id": "c08c8f78",
   "metadata": {},
   "outputs": [
    {
     "name": "stdout",
     "output_type": "stream",
     "text": [
      "Audi\n",
      "BMW\n",
      "Subaru\n",
      "Toyota\n",
      "True\n",
      "\n",
      "Hold the anchovies!\n",
      "you can't find it\n",
      "\n",
      "That is not the correct answer. Please try again!\n",
      "True\n",
      "False\n",
      "\n",
      "Your admision cost is $5.\n",
      "\n",
      "Your admission cos is $5.\n"
     ]
    }
   ],
   "source": [
    "cars = ['audi','bmw','subaru','toyota']\n",
    "for car in cars:\n",
    "    if car == 'bmw': #检查是否相等 考虑大小写\n",
    "        print(car.upper())\n",
    "    else:\n",
    "        print(car.title())\n",
    "print('audi' in cars) #检查特定值是否在列表中\n",
    "\n",
    "requested_topping = 'mushrooms'\n",
    "if requested_topping !='anchovies': #检查是否不相等\n",
    "    print(\"\\nHold the anchovies!\")\n",
    "\n",
    "if 'anch' not in requested_topping: #检查是否不在列表中\n",
    "    print(\"you can't find it\")\n",
    "\n",
    "answer = 17\n",
    "if answer != 42:\n",
    "    print(\"\\nThat is not the correct answer. Please try again!\")\n",
    "    \n",
    "# and 和 or 检查多个条件\n",
    "age_0 = 22\n",
    "age_1 = 1\n",
    "print(age_0 >= 21 or age_1>=21)\n",
    "print(age_0 >= 21 and age_1>=21)\n",
    "\n",
    "#布尔表达式\n",
    "game_active = True\n",
    "can_edit = False\n",
    "\n",
    "# if-elif-else结构 有一个条件满足就会跳过剩下的条件 只执行一个代码快\n",
    "age = 12\n",
    "if age < 4:\n",
    "    print(\"Your admission cost is $0.\")\n",
    "elif age <18:\n",
    "    print(\"\\nYour admision cost is $5.\")\n",
    "else:\n",
    "    print(\"Your admission costis $10.\")\n",
    "\n",
    "age = 12\n",
    "if age < 4:\n",
    "    price = 0\n",
    "elif age < 18:\n",
    "    price = 5\n",
    "elif age < 65:\n",
    "    price = 10\n",
    "else:\n",
    "    price=5\n",
    "print(\"\\nYour admission cos is $\" + str(price) + \".\")\n",
    "\n",
    "# 测试多个条件,使用独立的if语句"
   ]
  },
  {
   "cell_type": "markdown",
   "id": "255c45be",
   "metadata": {},
   "source": [
    "### 使用if语句处理列表"
   ]
  },
  {
   "cell_type": "code",
   "execution_count": 134,
   "id": "a34946b4",
   "metadata": {},
   "outputs": [
    {
     "name": "stdout",
     "output_type": "stream",
     "text": [
      "Adding mushrooms.\n",
      "Sorry,we are out of green peppers right now.\n",
      "Adding extra cheese.\n",
      "Finished making your pizza!\n",
      "\n",
      "Are you sure you wanat a pizza?\n"
     ]
    }
   ],
   "source": [
    "requested_toppings = ['mushrooms','green peppers','extra cheese']\n",
    "for requested_topping in requested_toppings:\n",
    "    if requested_topping == 'green peppers':\n",
    "        print(\"Sorry,we are out of green peppers right now.\")\n",
    "    else:\n",
    "        print(\"Adding \" + requested_topping + \".\")\n",
    "print(\"Finished making your pizza!\")\n",
    "\n",
    "#确定列表不是空的\n",
    "requested_toppings = []\n",
    "if requested_toppings:\n",
    "    for requested_topping in requested_toppings:\n",
    "        print(\"Adding \" + requested_topping + \".\")\n",
    "    print(\"\\nFinished making your pizza!\")\n",
    "else:\n",
    "    print(\"\\nAre you sure you wanat a pizza?\")\n",
    "\n",
    "# 可以使用多个列表,固定的内容也可以使用元组"
   ]
  },
  {
   "cell_type": "markdown",
   "id": "92eb416e",
   "metadata": {},
   "source": [
    "## 字典"
   ]
  },
  {
   "cell_type": "code",
   "execution_count": 152,
   "id": "e8d817e2",
   "metadata": {},
   "outputs": [
    {
     "name": "stdout",
     "output_type": "stream",
     "text": [
      "green\n",
      "5\n",
      "You just earned 5 points!\n",
      "{'color': 'green', 'points': 5, 'x_position': 0, 'y_position': 25}\n",
      "The alien is now yellow.\n",
      "{'color': 'yellow', 'x_position': 0, 'y_position': 25}\n",
      "\n",
      "Key: username\n",
      "Value: fermi\n",
      "\n",
      "Key: first\n",
      "Value: enrico\n",
      "\n",
      "Key: last\n",
      "Value: fermi\n",
      "\n",
      "\n",
      "Username\n",
      "First\n",
      "Last\n",
      "\n",
      "\n",
      "Enrico\n",
      "Fermi\n",
      "Fermi\n",
      "\n",
      "\n",
      "Enrico\n",
      "Fermi\n"
     ]
    }
   ],
   "source": [
    "alien_0 = {'color':'green','points':5}\n",
    "print(alien_0['color'])\n",
    "print(alien_0['points'])\n",
    "\n",
    "new_points = alien_0['points'] #访问字典中的值\n",
    "print(\"You just earned \"+ str(new_points)+\" points!\")\n",
    "\n",
    "alien_0['x_position'] = 0  #添加键-值对\n",
    "alien_0['y_position'] = 25\n",
    "print(alien_0)\n",
    "\n",
    "# 修改字典中的值\n",
    "alien_0['color']='yellow'\n",
    "print(\"The alien is now \" + alien_0['color']+'.')\n",
    "\n",
    "del alien_0['points'] #永远删除键-值对\n",
    "print(alien_0)\n",
    "\n",
    "#遍历字典\n",
    "user_0 ={'username':'fermi','first':'enrico','last':'fermi'}\n",
    "for key,value in user_0.items():\n",
    "    print(\"\\nKey: \" + key)\n",
    "    print(\"Value: \" + value)\n",
    "    \n",
    "print(\"\\n\")\n",
    "for key in user_0.keys(): #方法keys()返回一个列表\n",
    "    print(key.title())\n",
    "print(\"\\n\")\n",
    "for value in sorted(user_0.values()): #方法alues()返回值的列表 排序sorted\n",
    "    print(value.title())\n",
    "print(\"\\n\")\n",
    "for value in set(user_0.values()):  #方法set() 找出独一无二的元素,给出不重复的列表\n",
    "    print(value.title())"
   ]
  },
  {
   "cell_type": "markdown",
   "id": "e01ea9c7",
   "metadata": {},
   "source": [
    "## 嵌套"
   ]
  },
  {
   "cell_type": "code",
   "execution_count": 155,
   "id": "4e206849",
   "metadata": {},
   "outputs": [
    {
     "name": "stdout",
     "output_type": "stream",
     "text": [
      "{'color': 'green', 'points': 5, 'speed': 'slow'}\n",
      "{'color': 'green', 'points': 5, 'speed': 'slow'}\n",
      "{'color': 'green', 'points': 5, 'speed': 'slow'}\n",
      "{'color': 'green', 'points': 5, 'speed': 'slow'}\n",
      "{'color': 'green', 'points': 5, 'speed': 'slow'}\n",
      "...\n",
      "Total number of aliens: 30\n"
     ]
    }
   ],
   "source": [
    "aliens = []\n",
    "for alien_number in range(30):\n",
    "    new_alien = {'color':'green','points':5,'speed':'slow'}\n",
    "    aliens.append(new_alien)\n",
    "for alien in aliens[:5]:\n",
    "    print(alien)\n",
    "print(\"...\")\n",
    "print(\"Total number of aliens: \"+str(len(aliens)))"
   ]
  },
  {
   "cell_type": "code",
   "execution_count": 160,
   "id": "05623a13",
   "metadata": {},
   "outputs": [
    {
     "name": "stdout",
     "output_type": "stream",
     "text": [
      "You orderd a thick-crust pizza with the following toppings:\n",
      "\tmushroom\n",
      "\textra cheese\n",
      "\n",
      "Username: aeinstein\n",
      "\tFull name: Albert Einstein\n",
      "\tLocation: Princeton\n",
      "\n",
      "Username: mcurie\n",
      "\tFull name: Marie Curie\n",
      "\tLocation: Paris\n"
     ]
    }
   ],
   "source": [
    "# 在字典中存储列表\n",
    "pizza = {'crust':'thick','toppings':['mushroom','extra cheese'],}\n",
    "print(\"You orderd a \"+pizza['crust']+\"-crust pizza \"+\"with the following toppings:\")\n",
    "for topping in pizza['toppings']:\n",
    "    print(\"\\t\"+topping)\n",
    "    \n",
    "# 在字典中存储字典\n",
    "users = {\n",
    "    'aeinstein':{'first':'albert','last':'einstein','location':'princeton',},\n",
    "    'mcurie':{'first':'marie','last':'curie','location':'paris',},\n",
    "}\n",
    "for username,user_info in users.items():\n",
    "    print(\"\\nUsername: \"+username)\n",
    "    full_name=user_info['first']+\" \"+user_info['last']\n",
    "    location=user_info['location']\n",
    "    print(\"\\tFull name: \"+full_name.title())\n",
    "    print(\"\\tLocation: \"+location.title())"
   ]
  },
  {
   "cell_type": "markdown",
   "id": "147c5f84",
   "metadata": {},
   "source": [
    "## 用户输入和while循环"
   ]
  },
  {
   "cell_type": "code",
   "execution_count": 163,
   "id": "4b1f59a8",
   "metadata": {},
   "outputs": [
    {
     "name": "stdout",
     "output_type": "stream",
     "text": [
      "Tell me something,and I will repeat it back to you:hello\n",
      "hello\n",
      "If you tell us who you are, we can personalize the messages you see.\n",
      "What is your first name? eric\n",
      "\n",
      "Hello, eric!\n"
     ]
    }
   ],
   "source": [
    "# input()让程序暂停运行,等待用户输入文本 参数为向用户显示的提示和说明\n",
    "message = input(\"Tell me something,and I will repeat it back to you:\") \n",
    "print(message)\n",
    "# 提示超过一行\n",
    "prompt = \"If you tell us who you are, we can personalize the messages you see.\"\n",
    "prompt += \"\\nWhat is your first name? \"\n",
    "name = input(prompt)\n",
    "print(\"\\nHello, \"+ name +\"!\")\n",
    "\n",
    "# 使用int()来获取输入\n",
    "age = input(\"How old are you? \")\n",
    "age = int(age)\n",
    "print(age)\n",
    "\n",
    "4 % 3 #求模运算符,计算两数相除,返回余数 可以用来判断奇偶\n"
   ]
  },
  {
   "cell_type": "code",
   "execution_count": 170,
   "id": "9f875196",
   "metadata": {},
   "outputs": [
    {
     "name": "stdout",
     "output_type": "stream",
     "text": [
      "1\n",
      "2\n",
      "3\n",
      "4\n",
      "5\n",
      "\n",
      "Tell me something, and I will repeat it back to you:\n",
      " Enter 'quit' to end the program. hello\n",
      "hello\n",
      "\n",
      "Tell me something, and I will repeat it back to you:\n",
      " Enter 'quit' to end the program. quit\n"
     ]
    }
   ],
   "source": [
    "current_number = 1\n",
    "while current_number <= 5:\n",
    "    print(current_number)\n",
    "    current_number += 1\n",
    "# 使用标志\n",
    "prompt = \"\\nTell me something, and I will repeat it back to you:\"\n",
    "prompt += \"\\n Enter 'quit' to end the program. \"\n",
    "active = True \n",
    "while active:\n",
    "    message = input(prompt)\n",
    "\n",
    "    if message == 'quit':\n",
    "        active = False\n",
    "    else:\n",
    "        print(message)"
   ]
  },
  {
   "cell_type": "code",
   "execution_count": 172,
   "id": "467d9f23",
   "metadata": {},
   "outputs": [
    {
     "name": "stdout",
     "output_type": "stream",
     "text": [
      "\n",
      "Please enter the name of a city you have visited:\n",
      "(Enter 'quit' when you are finished.) beijing\n",
      "I'd love to go to Beijing !\n",
      "\n",
      "Please enter the name of a city you have visited:\n",
      "(Enter 'quit' when you are finished.) quit\n",
      "1\n",
      "3\n",
      "5\n",
      "7\n",
      "9\n"
     ]
    }
   ],
   "source": [
    "# 使用break退出循环\n",
    "prompt = \"\\nPlease enter the name of a city you have visited:\"\n",
    "prompt += \"\\n(Enter 'quit' when you are finished.) \"\n",
    "while True:\n",
    "    city = input(prompt)\n",
    "    \n",
    "    if city == 'quit':\n",
    "        break\n",
    "    else:\n",
    "        print(\"I'd love to go to \"+city.title()+\" !\")\n",
    "        \n",
    "#使用continue\n",
    "current_number = 0\n",
    "while current_number <10:\n",
    "    current_number +=1\n",
    "    if current_number % 2 ==0:\n",
    "        continue                   #结果为0 执行continue 忽略余下代码,回到循环开头\n",
    "    print(current_number)"
   ]
  },
  {
   "cell_type": "code",
   "execution_count": 174,
   "id": "b0541d35",
   "metadata": {},
   "outputs": [
    {
     "name": "stdout",
     "output_type": "stream",
     "text": [
      "Verifying users: Candace\n",
      "Verifying users: Brian\n",
      "Verifying users: Alice\n",
      "\n",
      "The following users have been confirmed:\n",
      "Candace\n",
      "Brian\n",
      "Alice\n"
     ]
    }
   ],
   "source": [
    "# 移动列表元素\n",
    "unconfirmed_users = ['alice','brian','candace']\n",
    "confirmed_users = []\n",
    "while unconfirmed_users:  #运行循环直到列表为空\n",
    "    current_user = unconfirmed_users.pop()\n",
    "    print(\"Verifying users: \"+current_user.title())\n",
    "    confirmed_users.append(current_user)\n",
    "print(\"\\nThe following users have been confirmed:\")\n",
    "for confirmed_user in confirmed_users:\n",
    "    print(confirmed_user.title())"
   ]
  },
  {
   "cell_type": "code",
   "execution_count": 178,
   "id": "48309345",
   "metadata": {},
   "outputs": [
    {
     "name": "stdout",
     "output_type": "stream",
     "text": [
      "\n",
      "What is your name? lucy\n",
      "Which mountain would you like to climb someday? kk\n",
      "Would you like to let another person respond? (yes/no) yes\n",
      "\n",
      "What is your name? eric\n",
      "Which mountain would you like to climb someday? jj\n",
      "Would you like to let another person respond? (yes/no) no\n",
      "\n",
      "--poll result--\n",
      "lucy would like to climb kk.\n",
      "eric would like to climb jj.\n"
     ]
    }
   ],
   "source": [
    "# 填充字典\n",
    "responses = {}\n",
    "active = True\n",
    "while active:\n",
    "    name = input(\"\\nWhat is your name? \")\n",
    "    response = input(\"Which mountain would you like to climb someday? \")\n",
    "    \n",
    "    responses[name] = response\n",
    "    \n",
    "    repeat = input(\"Would you like to let another person respond? (yes/no) \")\n",
    "    if repeat =='no':\n",
    "        active = False\n",
    "        \n",
    "print(\"\\n--poll result--\")\n",
    "for name,response in responses.items():\n",
    "    print(name + \" would like to climb \"+ response +\".\")"
   ]
  },
  {
   "cell_type": "code",
   "execution_count": null,
   "id": "4a8ee3f0",
   "metadata": {},
   "outputs": [],
   "source": []
  },
  {
   "cell_type": "code",
   "execution_count": null,
   "id": "84d8227c",
   "metadata": {},
   "outputs": [],
   "source": []
  }
 ],
 "metadata": {
  "kernelspec": {
   "display_name": "Python 3 (ipykernel)",
   "language": "python",
   "name": "python3"
  },
  "language_info": {
   "codemirror_mode": {
    "name": "ipython",
    "version": 3
   },
   "file_extension": ".py",
   "mimetype": "text/x-python",
   "name": "python",
   "nbconvert_exporter": "python",
   "pygments_lexer": "ipython3",
   "version": "3.9.12"
  }
 },
 "nbformat": 4,
 "nbformat_minor": 5
}
